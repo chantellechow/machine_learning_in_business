{
 "cells": [
  {
   "cell_type": "markdown",
   "id": "148376d7",
   "metadata": {},
   "source": [
    "# Find the best location for a new well for OilyGiant mining company\n",
    "Background:\n",
    "- Build a model to pick region with the highest profit margin. \n",
    "\n",
    "Goal:\n",
    "- Analyze potential profit and risks of oil well region using boostrapping \n",
    "\n",
    "Stages:\n",
    "- Collect the oil well parameters in the selected region: oil quality and volume of reserves;\n",
    "\n",
    "- Build a model for predicting the volume of reserves in the new wells;\n",
    "\n",
    "- Pick the oil wells with the highest estimated values;\n",
    "\n",
    "- Pick the region with the highest total profit for the selected oil wells.\n"
   ]
  },
  {
   "cell_type": "markdown",
   "id": "9e59e03e",
   "metadata": {},
   "source": [
    "<div class=\"alert alert-block alert-warning\">\n",
    "<b></b> <a class=\"tocSkip\"></a>   \n",
    "    \n",
    "> # Contents <a id='back'></a>\n",
    "> * [Introduction](#intro)\n",
    "    * [Stage 1. Importing libraries](#Import-Libraries)\n",
    "    * [Stage 2. Data Processing](#Data-Processing)\n",
    "    * [Stage 3. Train and test the model for each region](#Train-and-test-the-model-for-each-region)\n",
    "    * [Stage 4. Calculating profit ](#Calculating-profit )\n",
    "    * [Stage 5. Confidence interval for different regions](#Confidence-interval-for-different-regions)\n",
    "> * [Conclusion](#Conclusion)"
   ]
  },
  {
   "cell_type": "markdown",
   "id": "96d09560",
   "metadata": {},
   "source": [
    "# Import Libraries"
   ]
  },
  {
   "cell_type": "code",
   "execution_count": 1,
   "id": "59dc91d8",
   "metadata": {},
   "outputs": [],
   "source": [
    "import pandas as pd\n",
    "import matplotlib.pyplot as plt\n",
    "import numpy as np\n",
    "from sklearn.model_selection import train_test_split, GridSearchCV\n",
    "from sklearn.linear_model import LinearRegression\n",
    "from sklearn.metrics import mean_squared_error, mean_absolute_error, r2_score\n",
    "from sklearn.preprocessing import StandardScaler\n",
    "from sklearn.ensemble import RandomForestRegressor"
   ]
  },
  {
   "cell_type": "markdown",
   "id": "7b4be250",
   "metadata": {},
   "source": [
    "# Data-Processing"
   ]
  },
  {
   "cell_type": "code",
   "execution_count": 2,
   "id": "06b04a30",
   "metadata": {},
   "outputs": [],
   "source": [
    "# importing csv\n",
    "\n",
    "try:\n",
    "    geo_data_0 = pd.read_csv('/Users/dankeichow/Downloads/geo_data_0.csv')\n",
    "    geo_data_1 = pd.read_csv('/Users/dankeichow/Downloads/geo_data_1.csv')\n",
    "    geo_data_2 = pd.read_csv('/Users/dankeichow/Downloads/geo_data_2.csv')\n",
    "    \n",
    "except:\n",
    "    geo_data_0 = pd.read_csv('/datasets/geo_data_0.csv')\n",
    "    geo_data_1 = pd.read_csv('/datasets/geo_data_1.csv')\n",
    "    geo_data_2 = pd.read_csv('/datasets/geo_data_2.csv')"
   ]
  },
  {
   "cell_type": "markdown",
   "id": "66800d96",
   "metadata": {},
   "source": [
    "### Examine geo_data_0 "
   ]
  },
  {
   "cell_type": "code",
   "execution_count": 3,
   "id": "301c307e",
   "metadata": {},
   "outputs": [
    {
     "name": "stdout",
     "output_type": "stream",
     "text": [
      "<class 'pandas.core.frame.DataFrame'>\n",
      "RangeIndex: 100000 entries, 0 to 99999\n",
      "Data columns (total 5 columns):\n",
      " #   Column   Non-Null Count   Dtype  \n",
      "---  ------   --------------   -----  \n",
      " 0   id       100000 non-null  object \n",
      " 1   f0       100000 non-null  float64\n",
      " 2   f1       100000 non-null  float64\n",
      " 3   f2       100000 non-null  float64\n",
      " 4   product  100000 non-null  float64\n",
      "dtypes: float64(4), object(1)\n",
      "memory usage: 3.8+ MB\n",
      "\n",
      "                  f0             f1             f2        product\n",
      "count  100000.000000  100000.000000  100000.000000  100000.000000\n",
      "mean        0.500419       0.250143       2.502647      92.500000\n",
      "std         0.871832       0.504433       3.248248      44.288691\n",
      "min        -1.408605      -0.848218     -12.088328       0.000000\n",
      "25%        -0.072580      -0.200881       0.287748      56.497507\n",
      "50%         0.502360       0.250252       2.515969      91.849972\n",
      "75%         1.073581       0.700646       4.715088     128.564089\n",
      "max         2.362331       1.343769      16.003790     185.364347\n"
     ]
    }
   ],
   "source": [
    "geo_data_0.info()\n",
    "print()\n",
    "print(geo_data_0.describe())"
   ]
  },
  {
   "cell_type": "code",
   "execution_count": 4,
   "id": "f90c018a",
   "metadata": {},
   "outputs": [
    {
     "data": {
      "text/html": [
       "<div>\n",
       "<style scoped>\n",
       "    .dataframe tbody tr th:only-of-type {\n",
       "        vertical-align: middle;\n",
       "    }\n",
       "\n",
       "    .dataframe tbody tr th {\n",
       "        vertical-align: top;\n",
       "    }\n",
       "\n",
       "    .dataframe thead th {\n",
       "        text-align: right;\n",
       "    }\n",
       "</style>\n",
       "<table border=\"1\" class=\"dataframe\">\n",
       "  <thead>\n",
       "    <tr style=\"text-align: right;\">\n",
       "      <th></th>\n",
       "      <th>id</th>\n",
       "      <th>f0</th>\n",
       "      <th>f1</th>\n",
       "      <th>f2</th>\n",
       "      <th>product</th>\n",
       "    </tr>\n",
       "  </thead>\n",
       "  <tbody>\n",
       "    <tr>\n",
       "      <th>0</th>\n",
       "      <td>txEyH</td>\n",
       "      <td>0.705745</td>\n",
       "      <td>-0.497823</td>\n",
       "      <td>1.221170</td>\n",
       "      <td>105.280062</td>\n",
       "    </tr>\n",
       "    <tr>\n",
       "      <th>1</th>\n",
       "      <td>2acmU</td>\n",
       "      <td>1.334711</td>\n",
       "      <td>-0.340164</td>\n",
       "      <td>4.365080</td>\n",
       "      <td>73.037750</td>\n",
       "    </tr>\n",
       "    <tr>\n",
       "      <th>2</th>\n",
       "      <td>409Wp</td>\n",
       "      <td>1.022732</td>\n",
       "      <td>0.151990</td>\n",
       "      <td>1.419926</td>\n",
       "      <td>85.265647</td>\n",
       "    </tr>\n",
       "    <tr>\n",
       "      <th>3</th>\n",
       "      <td>iJLyR</td>\n",
       "      <td>-0.032172</td>\n",
       "      <td>0.139033</td>\n",
       "      <td>2.978566</td>\n",
       "      <td>168.620776</td>\n",
       "    </tr>\n",
       "    <tr>\n",
       "      <th>4</th>\n",
       "      <td>Xdl7t</td>\n",
       "      <td>1.988431</td>\n",
       "      <td>0.155413</td>\n",
       "      <td>4.751769</td>\n",
       "      <td>154.036647</td>\n",
       "    </tr>\n",
       "  </tbody>\n",
       "</table>\n",
       "</div>"
      ],
      "text/plain": [
       "      id        f0        f1        f2     product\n",
       "0  txEyH  0.705745 -0.497823  1.221170  105.280062\n",
       "1  2acmU  1.334711 -0.340164  4.365080   73.037750\n",
       "2  409Wp  1.022732  0.151990  1.419926   85.265647\n",
       "3  iJLyR -0.032172  0.139033  2.978566  168.620776\n",
       "4  Xdl7t  1.988431  0.155413  4.751769  154.036647"
      ]
     },
     "execution_count": 4,
     "metadata": {},
     "output_type": "execute_result"
    }
   ],
   "source": [
    "geo_data_0.head(5)"
   ]
  },
  {
   "cell_type": "code",
   "execution_count": 5,
   "id": "c1bc337c",
   "metadata": {
    "scrolled": true
   },
   "outputs": [
    {
     "data": {
      "text/plain": [
       "0"
      ]
     },
     "execution_count": 5,
     "metadata": {},
     "output_type": "execute_result"
    }
   ],
   "source": [
    "# Check if there is duplicate data in geo_data_0\n",
    "\n",
    "geo_data_0.duplicated().sum()"
   ]
  },
  {
   "cell_type": "code",
   "execution_count": 6,
   "id": "cfccdce2",
   "metadata": {},
   "outputs": [
    {
     "data": {
      "text/plain": [
       "product\n",
       "105.280062    1\n",
       "122.799517    1\n",
       "61.817308     1\n",
       "37.155071     1\n",
       "73.090084     1\n",
       "             ..\n",
       "154.694803    1\n",
       "79.818082     1\n",
       "138.609486    1\n",
       "62.540393     1\n",
       "149.633246    1\n",
       "Name: count, Length: 100000, dtype: int64"
      ]
     },
     "execution_count": 6,
     "metadata": {},
     "output_type": "execute_result"
    }
   ],
   "source": [
    "geo_data_0['product'].value_counts()"
   ]
  },
  {
   "cell_type": "markdown",
   "id": "76af1a44",
   "metadata": {},
   "source": [
    "### Oberservation\n",
    "\n",
    "There are 100,000 rows of data with 5 columns.\n",
    "\n",
    "There is no duplicate within geo_data_0 dataset. The target values are also evenly distributed."
   ]
  },
  {
   "cell_type": "markdown",
   "id": "b093c8d0",
   "metadata": {},
   "source": [
    "### Examine geo_data_1"
   ]
  },
  {
   "cell_type": "code",
   "execution_count": 7,
   "id": "c1bf8345",
   "metadata": {
    "scrolled": true
   },
   "outputs": [
    {
     "name": "stdout",
     "output_type": "stream",
     "text": [
      "<class 'pandas.core.frame.DataFrame'>\n",
      "RangeIndex: 100000 entries, 0 to 99999\n",
      "Data columns (total 5 columns):\n",
      " #   Column   Non-Null Count   Dtype  \n",
      "---  ------   --------------   -----  \n",
      " 0   id       100000 non-null  object \n",
      " 1   f0       100000 non-null  float64\n",
      " 2   f1       100000 non-null  float64\n",
      " 3   f2       100000 non-null  float64\n",
      " 4   product  100000 non-null  float64\n",
      "dtypes: float64(4), object(1)\n",
      "memory usage: 3.8+ MB\n",
      "\n",
      "                  f0             f1             f2        product\n",
      "count  100000.000000  100000.000000  100000.000000  100000.000000\n",
      "mean        1.141296      -4.796579       2.494541      68.825000\n",
      "std         8.965932       5.119872       1.703572      45.944423\n",
      "min       -31.609576     -26.358598      -0.018144       0.000000\n",
      "25%        -6.298551      -8.267985       1.000021      26.953261\n",
      "50%         1.153055      -4.813172       2.011479      57.085625\n",
      "75%         8.621015      -1.332816       3.999904     107.813044\n",
      "max        29.421755      18.734063       5.019721     137.945408\n"
     ]
    }
   ],
   "source": [
    "\n",
    "geo_data_1.info()\n",
    "print()\n",
    "print(geo_data_1.describe())"
   ]
  },
  {
   "cell_type": "code",
   "execution_count": 8,
   "id": "2c8086d5",
   "metadata": {},
   "outputs": [
    {
     "data": {
      "text/html": [
       "<div>\n",
       "<style scoped>\n",
       "    .dataframe tbody tr th:only-of-type {\n",
       "        vertical-align: middle;\n",
       "    }\n",
       "\n",
       "    .dataframe tbody tr th {\n",
       "        vertical-align: top;\n",
       "    }\n",
       "\n",
       "    .dataframe thead th {\n",
       "        text-align: right;\n",
       "    }\n",
       "</style>\n",
       "<table border=\"1\" class=\"dataframe\">\n",
       "  <thead>\n",
       "    <tr style=\"text-align: right;\">\n",
       "      <th></th>\n",
       "      <th>id</th>\n",
       "      <th>f0</th>\n",
       "      <th>f1</th>\n",
       "      <th>f2</th>\n",
       "      <th>product</th>\n",
       "    </tr>\n",
       "  </thead>\n",
       "  <tbody>\n",
       "    <tr>\n",
       "      <th>0</th>\n",
       "      <td>kBEdx</td>\n",
       "      <td>-15.001348</td>\n",
       "      <td>-8.276000</td>\n",
       "      <td>-0.005876</td>\n",
       "      <td>3.179103</td>\n",
       "    </tr>\n",
       "    <tr>\n",
       "      <th>1</th>\n",
       "      <td>62mP7</td>\n",
       "      <td>14.272088</td>\n",
       "      <td>-3.475083</td>\n",
       "      <td>0.999183</td>\n",
       "      <td>26.953261</td>\n",
       "    </tr>\n",
       "    <tr>\n",
       "      <th>2</th>\n",
       "      <td>vyE1P</td>\n",
       "      <td>6.263187</td>\n",
       "      <td>-5.948386</td>\n",
       "      <td>5.001160</td>\n",
       "      <td>134.766305</td>\n",
       "    </tr>\n",
       "    <tr>\n",
       "      <th>3</th>\n",
       "      <td>KcrkZ</td>\n",
       "      <td>-13.081196</td>\n",
       "      <td>-11.506057</td>\n",
       "      <td>4.999415</td>\n",
       "      <td>137.945408</td>\n",
       "    </tr>\n",
       "    <tr>\n",
       "      <th>4</th>\n",
       "      <td>AHL4O</td>\n",
       "      <td>12.702195</td>\n",
       "      <td>-8.147433</td>\n",
       "      <td>5.004363</td>\n",
       "      <td>134.766305</td>\n",
       "    </tr>\n",
       "  </tbody>\n",
       "</table>\n",
       "</div>"
      ],
      "text/plain": [
       "      id         f0         f1        f2     product\n",
       "0  kBEdx -15.001348  -8.276000 -0.005876    3.179103\n",
       "1  62mP7  14.272088  -3.475083  0.999183   26.953261\n",
       "2  vyE1P   6.263187  -5.948386  5.001160  134.766305\n",
       "3  KcrkZ -13.081196 -11.506057  4.999415  137.945408\n",
       "4  AHL4O  12.702195  -8.147433  5.004363  134.766305"
      ]
     },
     "execution_count": 8,
     "metadata": {},
     "output_type": "execute_result"
    }
   ],
   "source": [
    "geo_data_1.head(5)"
   ]
  },
  {
   "cell_type": "code",
   "execution_count": 9,
   "id": "728cc8e5",
   "metadata": {},
   "outputs": [
    {
     "data": {
      "text/plain": [
       "0"
      ]
     },
     "execution_count": 9,
     "metadata": {},
     "output_type": "execute_result"
    }
   ],
   "source": [
    "# Check if there is duplicate data in geo_data_0\n",
    "\n",
    "geo_data_1.duplicated().sum()"
   ]
  },
  {
   "cell_type": "code",
   "execution_count": 10,
   "id": "86536414",
   "metadata": {},
   "outputs": [
    {
     "data": {
      "text/plain": [
       "product\n",
       "53.906522     8472\n",
       "26.953261     8468\n",
       "84.038886     8431\n",
       "57.085625     8390\n",
       "3.179103      8337\n",
       "80.859783     8320\n",
       "30.132364     8306\n",
       "134.766305    8304\n",
       "110.992147    8303\n",
       "0.000000      8235\n",
       "137.945408    8233\n",
       "107.813044    8201\n",
       "Name: count, dtype: int64"
      ]
     },
     "execution_count": 10,
     "metadata": {},
     "output_type": "execute_result"
    }
   ],
   "source": [
    "geo_data_1['product'].value_counts()"
   ]
  },
  {
   "cell_type": "markdown",
   "id": "46027e13",
   "metadata": {},
   "source": [
    "### Examine geo_data_2"
   ]
  },
  {
   "cell_type": "code",
   "execution_count": 11,
   "id": "b7114a93",
   "metadata": {},
   "outputs": [
    {
     "name": "stdout",
     "output_type": "stream",
     "text": [
      "<class 'pandas.core.frame.DataFrame'>\n",
      "RangeIndex: 100000 entries, 0 to 99999\n",
      "Data columns (total 5 columns):\n",
      " #   Column   Non-Null Count   Dtype  \n",
      "---  ------   --------------   -----  \n",
      " 0   id       100000 non-null  object \n",
      " 1   f0       100000 non-null  float64\n",
      " 2   f1       100000 non-null  float64\n",
      " 3   f2       100000 non-null  float64\n",
      " 4   product  100000 non-null  float64\n",
      "dtypes: float64(4), object(1)\n",
      "memory usage: 3.8+ MB\n",
      "\n",
      "                  f0             f1             f2        product\n",
      "count  100000.000000  100000.000000  100000.000000  100000.000000\n",
      "mean        0.002023      -0.002081       2.495128      95.000000\n",
      "std         1.732045       1.730417       3.473445      44.749921\n",
      "min        -8.760004      -7.084020     -11.970335       0.000000\n",
      "25%        -1.162288      -1.174820       0.130359      59.450441\n",
      "50%         0.009424      -0.009482       2.484236      94.925613\n",
      "75%         1.158535       1.163678       4.858794     130.595027\n",
      "max         7.238262       7.844801      16.739402     190.029838\n"
     ]
    }
   ],
   "source": [
    "geo_data_2.info()\n",
    "print()\n",
    "print(geo_data_2.describe())"
   ]
  },
  {
   "cell_type": "code",
   "execution_count": 12,
   "id": "0d5836f4",
   "metadata": {},
   "outputs": [
    {
     "data": {
      "text/html": [
       "<div>\n",
       "<style scoped>\n",
       "    .dataframe tbody tr th:only-of-type {\n",
       "        vertical-align: middle;\n",
       "    }\n",
       "\n",
       "    .dataframe tbody tr th {\n",
       "        vertical-align: top;\n",
       "    }\n",
       "\n",
       "    .dataframe thead th {\n",
       "        text-align: right;\n",
       "    }\n",
       "</style>\n",
       "<table border=\"1\" class=\"dataframe\">\n",
       "  <thead>\n",
       "    <tr style=\"text-align: right;\">\n",
       "      <th></th>\n",
       "      <th>id</th>\n",
       "      <th>f0</th>\n",
       "      <th>f1</th>\n",
       "      <th>f2</th>\n",
       "      <th>product</th>\n",
       "    </tr>\n",
       "  </thead>\n",
       "  <tbody>\n",
       "    <tr>\n",
       "      <th>0</th>\n",
       "      <td>fwXo0</td>\n",
       "      <td>-1.146987</td>\n",
       "      <td>0.963328</td>\n",
       "      <td>-0.828965</td>\n",
       "      <td>27.758673</td>\n",
       "    </tr>\n",
       "    <tr>\n",
       "      <th>1</th>\n",
       "      <td>WJtFt</td>\n",
       "      <td>0.262778</td>\n",
       "      <td>0.269839</td>\n",
       "      <td>-2.530187</td>\n",
       "      <td>56.069697</td>\n",
       "    </tr>\n",
       "    <tr>\n",
       "      <th>2</th>\n",
       "      <td>ovLUW</td>\n",
       "      <td>0.194587</td>\n",
       "      <td>0.289035</td>\n",
       "      <td>-5.586433</td>\n",
       "      <td>62.871910</td>\n",
       "    </tr>\n",
       "    <tr>\n",
       "      <th>3</th>\n",
       "      <td>q6cA6</td>\n",
       "      <td>2.236060</td>\n",
       "      <td>-0.553760</td>\n",
       "      <td>0.930038</td>\n",
       "      <td>114.572842</td>\n",
       "    </tr>\n",
       "    <tr>\n",
       "      <th>4</th>\n",
       "      <td>WPMUX</td>\n",
       "      <td>-0.515993</td>\n",
       "      <td>1.716266</td>\n",
       "      <td>5.899011</td>\n",
       "      <td>149.600746</td>\n",
       "    </tr>\n",
       "  </tbody>\n",
       "</table>\n",
       "</div>"
      ],
      "text/plain": [
       "      id        f0        f1        f2     product\n",
       "0  fwXo0 -1.146987  0.963328 -0.828965   27.758673\n",
       "1  WJtFt  0.262778  0.269839 -2.530187   56.069697\n",
       "2  ovLUW  0.194587  0.289035 -5.586433   62.871910\n",
       "3  q6cA6  2.236060 -0.553760  0.930038  114.572842\n",
       "4  WPMUX -0.515993  1.716266  5.899011  149.600746"
      ]
     },
     "execution_count": 12,
     "metadata": {},
     "output_type": "execute_result"
    }
   ],
   "source": [
    "geo_data_2.head(5)"
   ]
  },
  {
   "cell_type": "code",
   "execution_count": 13,
   "id": "bf254ed9",
   "metadata": {},
   "outputs": [
    {
     "data": {
      "text/plain": [
       "0"
      ]
     },
     "execution_count": 13,
     "metadata": {},
     "output_type": "execute_result"
    }
   ],
   "source": [
    "# Check if there is duplicate data in geo_data_0\n",
    "\n",
    "geo_data_2.duplicated().sum()"
   ]
  },
  {
   "cell_type": "code",
   "execution_count": 14,
   "id": "dac2ebef",
   "metadata": {},
   "outputs": [
    {
     "data": {
      "text/plain": [
       "product\n",
       "27.758673     1\n",
       "145.850966    1\n",
       "51.061821     1\n",
       "51.767755     1\n",
       "127.557176    1\n",
       "             ..\n",
       "138.662027    1\n",
       "171.123264    1\n",
       "102.381336    1\n",
       "140.622292    1\n",
       "102.775767    1\n",
       "Name: count, Length: 100000, dtype: int64"
      ]
     },
     "execution_count": 14,
     "metadata": {},
     "output_type": "execute_result"
    }
   ],
   "source": [
    "geo_data_2['product'].value_counts()"
   ]
  },
  {
   "cell_type": "code",
   "execution_count": 15,
   "id": "43c49cde",
   "metadata": {},
   "outputs": [
    {
     "data": {
      "image/png": "[encoded data removed]",
      "text/plain": [
       "<Figure size 640x480 with 1 Axes>"
      ]
     },
     "metadata": {},
     "output_type": "display_data"
    },
    {
     "data": {
      "image/png": "[encoded data removed]",
      "text/plain": [
       "<Figure size 640x480 with 1 Axes>"
      ]
     },
     "metadata": {},
     "output_type": "display_data"
    },
    {
     "data": {
      "image/png": "[encoded data removed]",
      "text/plain": [
       "<Figure size 640x480 with 1 Axes>"
      ]
     },
     "metadata": {},
     "output_type": "display_data"
    }
   ],
   "source": [
    "regions = [geo_data_0, geo_data_1, geo_data_2]\n",
    "\n",
    "for count, site in enumerate(regions):\n",
    "    # add axis labels to the plot\n",
    "    site[\"product\"].plot(kind=\"hist\").set(\n",
    "    title=f\"Distribution of Product in Site {count + 1}\",\n",
    "    xlabel=\"product\"\n",
    "    )\n",
    "    plt.show();"
   ]
  },
  {
   "cell_type": "markdown",
   "id": "807a94ed",
   "metadata": {},
   "source": [
    "### Oberservation\n",
    "\n",
    "There are 5 columns and 100,000 rows for all three regions dataset. There is no need to fill missing values. The data has been pre-processed. \n",
    "\n",
    "Site 0 and site 2 have normal distribution for production volume while site 1 has U shaped distribution of production volume.\n",
    "\n",
    "We can start preparing our data. "
   ]
  },
  {
   "cell_type": "markdown",
   "id": "e87a4d28",
   "metadata": {},
   "source": [
    "# Train and test the model for each region"
   ]
  },
  {
   "cell_type": "markdown",
   "id": "4b2310d8",
   "metadata": {},
   "source": [
    "### Create features and target for each region"
   ]
  },
  {
   "cell_type": "code",
   "execution_count": 16,
   "id": "4072065f",
   "metadata": {},
   "outputs": [],
   "source": [
    "# Creating features and target \n",
    "\n",
    "features_0 = geo_data_0.drop(['product','id'],axis=1)\n",
    "target_0 = geo_data_0['product']\n",
    "\n",
    "features_1 = geo_data_1.drop(['product','id'],axis=1)\n",
    "target_1 = geo_data_1['product']\n",
    "\n",
    "features_2 = geo_data_2.drop(['product','id'],axis=1)\n",
    "target_2= geo_data_2['product']"
   ]
  },
  {
   "cell_type": "markdown",
   "id": "d1b4f694",
   "metadata": {},
   "source": [
    "### Split each region data into training and validation set"
   ]
  },
  {
   "cell_type": "code",
   "execution_count": 32,
   "id": "1a2f02b1",
   "metadata": {},
   "outputs": [
    {
     "name": "stdout",
     "output_type": "stream",
     "text": [
      "\n",
      "geo_data_0: The training data consists of 75,000 rows and validation data consists of 25,000 rows\n",
      "\n",
      "geo_data_1: The training data consists of 75,000 rows and validation data consists of 25,000 rows\n",
      "\n",
      "geo_data_2: The training data consists of 75,000rows and validation data consists of 25,000 rows\n",
      "\n"
     ]
    }
   ],
   "source": [
    "# Splitting data into training and validation with ratio of 0.25\n",
    "\n",
    "features_train_0, features_val_0, target_train_0, target_val_0 = train_test_split(\n",
    "    features_0, target_0,\n",
    "    test_size=0.25,random_state=12345\n",
    ")\n",
    "\n",
    "# Using doc string to shorten string text\n",
    "str1 = f\"\"\"\n",
    "geo_data_0: The training data consists of {features_train_0.shape[0]:,} \\\n",
    "rows and validation data consists of {features_val_0.shape[0]:,} rows\n",
    "\"\"\"\n",
    "print(str1, end=\"\")\n",
    "\n",
    "features_train_1, features_val_1, target_train_1, target_val_1 = train_test_split(\n",
    "    features_1, target_1,\n",
    "    test_size=0.25,random_state=12345\n",
    ")\n",
    "str2 =  f\"\"\"\n",
    "geo_data_1: The training data consists of {features_train_1.shape[0]:,} \\\n",
    "rows and validation data consists of {features_val_1.shape[0]:,} rows\n",
    "\"\"\"  \n",
    "print(str2, end=\"\")\n",
    "\n",
    "features_train_2, features_val_2, target_train_2, target_val_2 = train_test_split(\n",
    "    features_2, target_2,\n",
    "    test_size=0.25,random_state=12345\n",
    ")\n",
    "\n",
    "str3 = f\"\"\"\n",
    "geo_data_2: The training data consists of {features_train_2.shape[0]:,}\\\n",
    "rows and validation data consists of {features_val_2.shape[0]:,} rows\n",
    "\"\"\"\n",
    "print(str3)"
   ]
  },
  {
   "cell_type": "markdown",
   "id": "91afaf05",
   "metadata": {},
   "source": [
    "We have sucessfully split training data and validation data across all three datasets. \n",
    "\n",
    "The training data consists of 75,000 rows which is 75% of the data as required from project instructions."
   ]
  },
  {
   "cell_type": "markdown",
   "id": "2c878203",
   "metadata": {},
   "source": [
    "### Create a function to get different scores"
   ]
  },
  {
   "cell_type": "code",
   "execution_count": 18,
   "id": "d8fcea4b",
   "metadata": {},
   "outputs": [],
   "source": [
    "# Creating a function to calculate mse, rmse, mae, r2\n",
    "\n",
    "def lr_geo_data(feature_train, target_train, features_val, target_val):\n",
    "    model = LinearRegression()\n",
    "    model.fit(feature_train, target_train)\n",
    "    prediction_val = model.predict(features_val)\n",
    "    mse = round(mean_squared_error(target_val, prediction_val),2)\n",
    "    rmse = round(mse**0.5,2)\n",
    "    mae = round(mean_absolute_error(target_val, prediction_val),2)\n",
    "    r2 = round(r2_score(target_val, prediction_val),2)\n",
    "    return mse, rmse, mae, r2\n",
    "    "
   ]
  },
  {
   "cell_type": "code",
   "execution_count": 19,
   "id": "cc9f76e6",
   "metadata": {},
   "outputs": [],
   "source": [
    "# Getting scores for geo_data_0\n",
    "\n",
    "mse_data_0, rmse_data_0, mae_data_0, r2_data_0 = lr_geo_data(features_train_0, target_train_0,features_val_0,target_val_0)\n",
    "\n",
    "# Getting scores for geo_data_1\n",
    "\n",
    "mse_data_1, rmse_data_1, mae_data_1, r2_data_1 = lr_geo_data(features_train_1, target_train_1,features_val_1,target_val_1)\n",
    "\n",
    "# Getting scores for geo_data_2\n",
    "\n",
    "mse_data_2, rmse_data_2, mae_data_2, r2_data_2 = lr_geo_data(features_train_2, target_train_2,features_val_2,target_val_2)\n",
    "\n",
    "\n"
   ]
  },
  {
   "cell_type": "code",
   "execution_count": 20,
   "id": "07ec0d11",
   "metadata": {},
   "outputs": [
    {
     "data": {
      "text/html": [
       "<div>\n",
       "<style scoped>\n",
       "    .dataframe tbody tr th:only-of-type {\n",
       "        vertical-align: middle;\n",
       "    }\n",
       "\n",
       "    .dataframe tbody tr th {\n",
       "        vertical-align: top;\n",
       "    }\n",
       "\n",
       "    .dataframe thead th {\n",
       "        text-align: right;\n",
       "    }\n",
       "</style>\n",
       "<table border=\"1\" class=\"dataframe\">\n",
       "  <thead>\n",
       "    <tr style=\"text-align: right;\">\n",
       "      <th></th>\n",
       "      <th>mse</th>\n",
       "      <th>rmse</th>\n",
       "      <th>mae</th>\n",
       "      <th>r2</th>\n",
       "    </tr>\n",
       "  </thead>\n",
       "  <tbody>\n",
       "    <tr>\n",
       "      <th>geo_data_0</th>\n",
       "      <td>1412.21</td>\n",
       "      <td>37.58</td>\n",
       "      <td>30.92</td>\n",
       "      <td>0.28</td>\n",
       "    </tr>\n",
       "    <tr>\n",
       "      <th>geo_data_1</th>\n",
       "      <td>0.80</td>\n",
       "      <td>0.89</td>\n",
       "      <td>0.72</td>\n",
       "      <td>1.00</td>\n",
       "    </tr>\n",
       "    <tr>\n",
       "      <th>geo_data_2</th>\n",
       "      <td>1602.38</td>\n",
       "      <td>40.03</td>\n",
       "      <td>32.79</td>\n",
       "      <td>0.21</td>\n",
       "    </tr>\n",
       "  </tbody>\n",
       "</table>\n",
       "</div>"
      ],
      "text/plain": [
       "                mse   rmse    mae    r2\n",
       "geo_data_0  1412.21  37.58  30.92  0.28\n",
       "geo_data_1     0.80   0.89   0.72  1.00\n",
       "geo_data_2  1602.38  40.03  32.79  0.21"
      ]
     },
     "execution_count": 20,
     "metadata": {},
     "output_type": "execute_result"
    }
   ],
   "source": [
    "# Create table to display the scores \n",
    "\n",
    "score_for_regions = pd.DataFrame(columns=['mse','rmse','mae','r2'])\n",
    "\n",
    "geo_data_0_scores = [mse_data_0, rmse_data_0, mae_data_0, r2_data_0]\n",
    "\n",
    "geo_data_1_scores = [ mse_data_1, rmse_data_1, mae_data_1, r2_data_1]\n",
    "\n",
    "geo_data_2_scores = [ mse_data_2, rmse_data_2, mae_data_2, r2_data_2]\n",
    "\n",
    "score_for_regions.loc['geo_data_0']= geo_data_0_scores\n",
    "\n",
    "score_for_regions.loc['geo_data_1']= geo_data_1_scores\n",
    "\n",
    "score_for_regions.loc['geo_data_2']= geo_data_2_scores\n",
    "\n",
    "\n",
    "score_for_regions"
   ]
  },
  {
   "cell_type": "markdown",
   "id": "85d4a977",
   "metadata": {},
   "source": [
    "### Observation\n",
    "\n",
    "The error for `geo_data_1` is smallest meaning the model is best at predicting volumne of reserves in the oil well. However, it seems to be predicting too well. Also note that the target distribution for `geo_data_1` is not normal distribution same as `geo_data_0` and `geo_data_2`."
   ]
  },
  {
   "cell_type": "markdown",
   "id": "5a8cf962",
   "metadata": {},
   "source": [
    "# Calculating profit "
   ]
  },
  {
   "cell_type": "markdown",
   "id": "5fa9f4de",
   "metadata": {},
   "source": [
    "Conditions:\n",
    "\n",
    "- When exploring the region, a study of 500 points is carried with picking the best 200 points for the profit calculation.\n",
    "\n",
    "- The budget for development of 200 oil wells is 100 USD million.\n",
    "\n",
    "- One barrel of raw materials brings 4.5 USD of revenue The revenue from one unit of product is 4,500 dollars (volume of reserves is in thousand barrels).\n",
    "\n",
    "- After the risk evaluation, keep only the regions with the risk of losses lower than 2.5%. From the ones that fit the criteria, the region with the highest average profit should be selected.\n"
   ]
  },
  {
   "cell_type": "code",
   "execution_count": 21,
   "id": "31971caf",
   "metadata": {},
   "outputs": [],
   "source": [
    "# Store key values for calculations in variables\n",
    "\n",
    "development_budget = 100000000 \n",
    "product_price = 4500\n",
    "sample_size = 500\n",
    "best_200 = 200\n",
    "risk = 0.025\n"
   ]
  },
  {
   "cell_type": "markdown",
   "id": "71204fa8",
   "metadata": {},
   "source": [
    "Based on the instructions, we will have to pick the best 200 predictions for profit calculations. Since we have split data into features and target earlier, we will merge them back and add prediction values, sort by predicted value in descending value, and take the first 200 rows to calculate profit with actual production. "
   ]
  },
  {
   "cell_type": "markdown",
   "id": "420c858c",
   "metadata": {},
   "source": [
    "### Prepare complete dataset for region 0 for profit calculation"
   ]
  },
  {
   "cell_type": "code",
   "execution_count": 22,
   "id": "919d60d3",
   "metadata": {},
   "outputs": [
    {
     "data": {
      "text/html": [
       "<div>\n",
       "<style scoped>\n",
       "    .dataframe tbody tr th:only-of-type {\n",
       "        vertical-align: middle;\n",
       "    }\n",
       "\n",
       "    .dataframe tbody tr th {\n",
       "        vertical-align: top;\n",
       "    }\n",
       "\n",
       "    .dataframe thead th {\n",
       "        text-align: right;\n",
       "    }\n",
       "</style>\n",
       "<table border=\"1\" class=\"dataframe\">\n",
       "  <thead>\n",
       "    <tr style=\"text-align: right;\">\n",
       "      <th></th>\n",
       "      <th>f0</th>\n",
       "      <th>f1</th>\n",
       "      <th>f2</th>\n",
       "      <th>vol_of_reserves</th>\n",
       "      <th>predict_vol_of_reserves</th>\n",
       "    </tr>\n",
       "  </thead>\n",
       "  <tbody>\n",
       "    <tr>\n",
       "      <th>71751</th>\n",
       "      <td>0.948970</td>\n",
       "      <td>-0.057547</td>\n",
       "      <td>2.095727</td>\n",
       "      <td>10.038645</td>\n",
       "      <td>95.894952</td>\n",
       "    </tr>\n",
       "    <tr>\n",
       "      <th>80493</th>\n",
       "      <td>0.992974</td>\n",
       "      <td>0.206671</td>\n",
       "      <td>-0.142278</td>\n",
       "      <td>114.551489</td>\n",
       "      <td>77.572583</td>\n",
       "    </tr>\n",
       "    <tr>\n",
       "      <th>2655</th>\n",
       "      <td>1.199854</td>\n",
       "      <td>-0.563356</td>\n",
       "      <td>-1.852991</td>\n",
       "      <td>132.603635</td>\n",
       "      <td>77.892640</td>\n",
       "    </tr>\n",
       "    <tr>\n",
       "      <th>53233</th>\n",
       "      <td>0.691422</td>\n",
       "      <td>-0.433347</td>\n",
       "      <td>0.564974</td>\n",
       "      <td>169.072125</td>\n",
       "      <td>90.175134</td>\n",
       "    </tr>\n",
       "    <tr>\n",
       "      <th>91141</th>\n",
       "      <td>0.420772</td>\n",
       "      <td>0.972638</td>\n",
       "      <td>0.736190</td>\n",
       "      <td>122.325180</td>\n",
       "      <td>70.510088</td>\n",
       "    </tr>\n",
       "    <tr>\n",
       "      <th>...</th>\n",
       "      <td>...</td>\n",
       "      <td>...</td>\n",
       "      <td>...</td>\n",
       "      <td>...</td>\n",
       "      <td>...</td>\n",
       "    </tr>\n",
       "    <tr>\n",
       "      <th>12581</th>\n",
       "      <td>1.841106</td>\n",
       "      <td>-0.107678</td>\n",
       "      <td>2.585648</td>\n",
       "      <td>170.116726</td>\n",
       "      <td>103.037104</td>\n",
       "    </tr>\n",
       "    <tr>\n",
       "      <th>18456</th>\n",
       "      <td>0.041859</td>\n",
       "      <td>0.489280</td>\n",
       "      <td>2.168001</td>\n",
       "      <td>93.632175</td>\n",
       "      <td>85.403255</td>\n",
       "    </tr>\n",
       "    <tr>\n",
       "      <th>73035</th>\n",
       "      <td>0.376389</td>\n",
       "      <td>1.054298</td>\n",
       "      <td>-0.430104</td>\n",
       "      <td>127.352259</td>\n",
       "      <td>61.509833</td>\n",
       "    </tr>\n",
       "    <tr>\n",
       "      <th>63834</th>\n",
       "      <td>1.071330</td>\n",
       "      <td>-0.470046</td>\n",
       "      <td>4.527099</td>\n",
       "      <td>99.782700</td>\n",
       "      <td>118.180397</td>\n",
       "    </tr>\n",
       "    <tr>\n",
       "      <th>43558</th>\n",
       "      <td>1.726318</td>\n",
       "      <td>-0.077871</td>\n",
       "      <td>5.007083</td>\n",
       "      <td>177.821022</td>\n",
       "      <td>118.169392</td>\n",
       "    </tr>\n",
       "  </tbody>\n",
       "</table>\n",
       "<p>25000 rows × 5 columns</p>\n",
       "</div>"
      ],
      "text/plain": [
       "             f0        f1        f2  vol_of_reserves  predict_vol_of_reserves\n",
       "71751  0.948970 -0.057547  2.095727        10.038645                95.894952\n",
       "80493  0.992974  0.206671 -0.142278       114.551489                77.572583\n",
       "2655   1.199854 -0.563356 -1.852991       132.603635                77.892640\n",
       "53233  0.691422 -0.433347  0.564974       169.072125                90.175134\n",
       "91141  0.420772  0.972638  0.736190       122.325180                70.510088\n",
       "...         ...       ...       ...              ...                      ...\n",
       "12581  1.841106 -0.107678  2.585648       170.116726               103.037104\n",
       "18456  0.041859  0.489280  2.168001        93.632175                85.403255\n",
       "73035  0.376389  1.054298 -0.430104       127.352259                61.509833\n",
       "63834  1.071330 -0.470046  4.527099        99.782700               118.180397\n",
       "43558  1.726318 -0.077871  5.007083       177.821022               118.169392\n",
       "\n",
       "[25000 rows x 5 columns]"
      ]
     },
     "execution_count": 22,
     "metadata": {},
     "output_type": "execute_result"
    }
   ],
   "source": [
    "# Creating new dataset from validation set and combining features back with the target\n",
    "\n",
    "profit_geo_0 = features_val_0.copy()\n",
    "\n",
    "profit_geo_0['vol_of_reserves'] = target_val_0\n",
    "\n",
    "# Create model \n",
    "model = LinearRegression()\n",
    "model.fit(features_train_0, target_train_0)\n",
    "    \n",
    "# Create a new column of prediction\n",
    "profit_geo_0['predict_vol_of_reserves'] = model.predict(features_val_0)\n",
    "\n",
    "profit_geo_0"
   ]
  },
  {
   "cell_type": "markdown",
   "id": "5389fec3",
   "metadata": {},
   "source": [
    "### Prepare complete dataset for region 1 for profit calculation"
   ]
  },
  {
   "cell_type": "code",
   "execution_count": 23,
   "id": "07a73278",
   "metadata": {},
   "outputs": [
    {
     "data": {
      "text/html": [
       "<div>\n",
       "<style scoped>\n",
       "    .dataframe tbody tr th:only-of-type {\n",
       "        vertical-align: middle;\n",
       "    }\n",
       "\n",
       "    .dataframe tbody tr th {\n",
       "        vertical-align: top;\n",
       "    }\n",
       "\n",
       "    .dataframe thead th {\n",
       "        text-align: right;\n",
       "    }\n",
       "</style>\n",
       "<table border=\"1\" class=\"dataframe\">\n",
       "  <thead>\n",
       "    <tr style=\"text-align: right;\">\n",
       "      <th></th>\n",
       "      <th>f0</th>\n",
       "      <th>f1</th>\n",
       "      <th>f2</th>\n",
       "      <th>vol_of_reserves</th>\n",
       "      <th>predict_vol_of_reserves</th>\n",
       "    </tr>\n",
       "  </thead>\n",
       "  <tbody>\n",
       "    <tr>\n",
       "      <th>71751</th>\n",
       "      <td>-0.371866</td>\n",
       "      <td>-1.862494</td>\n",
       "      <td>3.002210</td>\n",
       "      <td>80.859783</td>\n",
       "      <td>82.663314</td>\n",
       "    </tr>\n",
       "    <tr>\n",
       "      <th>80493</th>\n",
       "      <td>9.015122</td>\n",
       "      <td>-13.881455</td>\n",
       "      <td>1.995363</td>\n",
       "      <td>53.906522</td>\n",
       "      <td>54.431786</td>\n",
       "    </tr>\n",
       "    <tr>\n",
       "      <th>2655</th>\n",
       "      <td>-6.507568</td>\n",
       "      <td>-4.817448</td>\n",
       "      <td>1.003449</td>\n",
       "      <td>30.132364</td>\n",
       "      <td>29.748760</td>\n",
       "    </tr>\n",
       "    <tr>\n",
       "      <th>53233</th>\n",
       "      <td>14.560845</td>\n",
       "      <td>-10.667755</td>\n",
       "      <td>1.995175</td>\n",
       "      <td>53.906522</td>\n",
       "      <td>53.552133</td>\n",
       "    </tr>\n",
       "    <tr>\n",
       "      <th>91141</th>\n",
       "      <td>6.090476</td>\n",
       "      <td>-4.494723</td>\n",
       "      <td>0.013815</td>\n",
       "      <td>0.000000</td>\n",
       "      <td>1.243856</td>\n",
       "    </tr>\n",
       "    <tr>\n",
       "      <th>...</th>\n",
       "      <td>...</td>\n",
       "      <td>...</td>\n",
       "      <td>...</td>\n",
       "      <td>...</td>\n",
       "      <td>...</td>\n",
       "    </tr>\n",
       "    <tr>\n",
       "      <th>12581</th>\n",
       "      <td>-4.107455</td>\n",
       "      <td>-4.607004</td>\n",
       "      <td>4.991140</td>\n",
       "      <td>137.945408</td>\n",
       "      <td>136.869211</td>\n",
       "    </tr>\n",
       "    <tr>\n",
       "      <th>18456</th>\n",
       "      <td>-8.363585</td>\n",
       "      <td>-6.357527</td>\n",
       "      <td>3.995592</td>\n",
       "      <td>110.992147</td>\n",
       "      <td>110.693465</td>\n",
       "    </tr>\n",
       "    <tr>\n",
       "      <th>73035</th>\n",
       "      <td>-9.136241</td>\n",
       "      <td>-5.403258</td>\n",
       "      <td>5.000925</td>\n",
       "      <td>137.945408</td>\n",
       "      <td>137.879341</td>\n",
       "    </tr>\n",
       "    <tr>\n",
       "      <th>63834</th>\n",
       "      <td>-6.386442</td>\n",
       "      <td>-0.764568</td>\n",
       "      <td>3.011526</td>\n",
       "      <td>84.038886</td>\n",
       "      <td>83.761966</td>\n",
       "    </tr>\n",
       "    <tr>\n",
       "      <th>43558</th>\n",
       "      <td>10.542817</td>\n",
       "      <td>-6.206446</td>\n",
       "      <td>1.992290</td>\n",
       "      <td>53.906522</td>\n",
       "      <td>53.958466</td>\n",
       "    </tr>\n",
       "  </tbody>\n",
       "</table>\n",
       "<p>25000 rows × 5 columns</p>\n",
       "</div>"
      ],
      "text/plain": [
       "              f0         f1        f2  vol_of_reserves  \\\n",
       "71751  -0.371866  -1.862494  3.002210        80.859783   \n",
       "80493   9.015122 -13.881455  1.995363        53.906522   \n",
       "2655   -6.507568  -4.817448  1.003449        30.132364   \n",
       "53233  14.560845 -10.667755  1.995175        53.906522   \n",
       "91141   6.090476  -4.494723  0.013815         0.000000   \n",
       "...          ...        ...       ...              ...   \n",
       "12581  -4.107455  -4.607004  4.991140       137.945408   \n",
       "18456  -8.363585  -6.357527  3.995592       110.992147   \n",
       "73035  -9.136241  -5.403258  5.000925       137.945408   \n",
       "63834  -6.386442  -0.764568  3.011526        84.038886   \n",
       "43558  10.542817  -6.206446  1.992290        53.906522   \n",
       "\n",
       "       predict_vol_of_reserves  \n",
       "71751                82.663314  \n",
       "80493                54.431786  \n",
       "2655                 29.748760  \n",
       "53233                53.552133  \n",
       "91141                 1.243856  \n",
       "...                        ...  \n",
       "12581               136.869211  \n",
       "18456               110.693465  \n",
       "73035               137.879341  \n",
       "63834                83.761966  \n",
       "43558                53.958466  \n",
       "\n",
       "[25000 rows x 5 columns]"
      ]
     },
     "execution_count": 23,
     "metadata": {},
     "output_type": "execute_result"
    }
   ],
   "source": [
    "# Creating new dataset from validation set and combining features back with the target\n",
    "\n",
    "profit_geo_1 = features_val_1.copy()\n",
    "\n",
    "profit_geo_1['vol_of_reserves'] = target_val_1\n",
    "\n",
    "# Create model \n",
    "model = LinearRegression()\n",
    "model.fit(features_train_1, target_train_1)\n",
    "    \n",
    "# Create a new column of prediction\n",
    "profit_geo_1['predict_vol_of_reserves'] = model.predict(features_val_1)\n",
    "\n",
    "profit_geo_1"
   ]
  },
  {
   "cell_type": "markdown",
   "id": "f1a606fe",
   "metadata": {},
   "source": [
    "### Prepare complete dataset for region 2 for profit calculation"
   ]
  },
  {
   "cell_type": "code",
   "execution_count": 24,
   "id": "0b30bb52",
   "metadata": {},
   "outputs": [
    {
     "data": {
      "text/html": [
       "<div>\n",
       "<style scoped>\n",
       "    .dataframe tbody tr th:only-of-type {\n",
       "        vertical-align: middle;\n",
       "    }\n",
       "\n",
       "    .dataframe tbody tr th {\n",
       "        vertical-align: top;\n",
       "    }\n",
       "\n",
       "    .dataframe thead th {\n",
       "        text-align: right;\n",
       "    }\n",
       "</style>\n",
       "<table border=\"1\" class=\"dataframe\">\n",
       "  <thead>\n",
       "    <tr style=\"text-align: right;\">\n",
       "      <th></th>\n",
       "      <th>f0</th>\n",
       "      <th>f1</th>\n",
       "      <th>f2</th>\n",
       "      <th>vol_of_reserves</th>\n",
       "      <th>predict_vol_of_reserves</th>\n",
       "    </tr>\n",
       "  </thead>\n",
       "  <tbody>\n",
       "    <tr>\n",
       "      <th>71751</th>\n",
       "      <td>-1.444717</td>\n",
       "      <td>-3.861599</td>\n",
       "      <td>2.225805</td>\n",
       "      <td>61.212375</td>\n",
       "      <td>93.599633</td>\n",
       "    </tr>\n",
       "    <tr>\n",
       "      <th>80493</th>\n",
       "      <td>-1.418617</td>\n",
       "      <td>1.276544</td>\n",
       "      <td>-0.976433</td>\n",
       "      <td>41.850118</td>\n",
       "      <td>75.105159</td>\n",
       "    </tr>\n",
       "    <tr>\n",
       "      <th>2655</th>\n",
       "      <td>-4.587649</td>\n",
       "      <td>-0.413199</td>\n",
       "      <td>1.649268</td>\n",
       "      <td>57.776581</td>\n",
       "      <td>90.066809</td>\n",
       "    </tr>\n",
       "    <tr>\n",
       "      <th>53233</th>\n",
       "      <td>1.871584</td>\n",
       "      <td>1.619101</td>\n",
       "      <td>4.273555</td>\n",
       "      <td>100.053761</td>\n",
       "      <td>105.162375</td>\n",
       "    </tr>\n",
       "    <tr>\n",
       "      <th>91141</th>\n",
       "      <td>-2.028785</td>\n",
       "      <td>4.128167</td>\n",
       "      <td>6.089547</td>\n",
       "      <td>109.897122</td>\n",
       "      <td>115.303310</td>\n",
       "    </tr>\n",
       "    <tr>\n",
       "      <th>...</th>\n",
       "      <td>...</td>\n",
       "      <td>...</td>\n",
       "      <td>...</td>\n",
       "      <td>...</td>\n",
       "      <td>...</td>\n",
       "    </tr>\n",
       "    <tr>\n",
       "      <th>12581</th>\n",
       "      <td>-1.315037</td>\n",
       "      <td>-0.122572</td>\n",
       "      <td>-0.345986</td>\n",
       "      <td>28.492402</td>\n",
       "      <td>78.765887</td>\n",
       "    </tr>\n",
       "    <tr>\n",
       "      <th>18456</th>\n",
       "      <td>0.015144</td>\n",
       "      <td>0.876998</td>\n",
       "      <td>2.603666</td>\n",
       "      <td>21.431303</td>\n",
       "      <td>95.603394</td>\n",
       "    </tr>\n",
       "    <tr>\n",
       "      <th>73035</th>\n",
       "      <td>0.725767</td>\n",
       "      <td>-0.151545</td>\n",
       "      <td>3.258620</td>\n",
       "      <td>125.487229</td>\n",
       "      <td>99.407281</td>\n",
       "    </tr>\n",
       "    <tr>\n",
       "      <th>63834</th>\n",
       "      <td>-0.232209</td>\n",
       "      <td>-0.180354</td>\n",
       "      <td>-0.524997</td>\n",
       "      <td>99.422903</td>\n",
       "      <td>77.779912</td>\n",
       "    </tr>\n",
       "    <tr>\n",
       "      <th>43558</th>\n",
       "      <td>-2.350293</td>\n",
       "      <td>-1.041230</td>\n",
       "      <td>8.458378</td>\n",
       "      <td>127.445075</td>\n",
       "      <td>129.032417</td>\n",
       "    </tr>\n",
       "  </tbody>\n",
       "</table>\n",
       "<p>25000 rows × 5 columns</p>\n",
       "</div>"
      ],
      "text/plain": [
       "             f0        f1        f2  vol_of_reserves  predict_vol_of_reserves\n",
       "71751 -1.444717 -3.861599  2.225805        61.212375                93.599633\n",
       "80493 -1.418617  1.276544 -0.976433        41.850118                75.105159\n",
       "2655  -4.587649 -0.413199  1.649268        57.776581                90.066809\n",
       "53233  1.871584  1.619101  4.273555       100.053761               105.162375\n",
       "91141 -2.028785  4.128167  6.089547       109.897122               115.303310\n",
       "...         ...       ...       ...              ...                      ...\n",
       "12581 -1.315037 -0.122572 -0.345986        28.492402                78.765887\n",
       "18456  0.015144  0.876998  2.603666        21.431303                95.603394\n",
       "73035  0.725767 -0.151545  3.258620       125.487229                99.407281\n",
       "63834 -0.232209 -0.180354 -0.524997        99.422903                77.779912\n",
       "43558 -2.350293 -1.041230  8.458378       127.445075               129.032417\n",
       "\n",
       "[25000 rows x 5 columns]"
      ]
     },
     "execution_count": 24,
     "metadata": {},
     "output_type": "execute_result"
    }
   ],
   "source": [
    "# Creating new dataset from validation set and combining features back with the target\n",
    "\n",
    "profit_geo_2 = features_val_2.copy()\n",
    "\n",
    "profit_geo_2['vol_of_reserves'] = target_val_2\n",
    "\n",
    "# Create model \n",
    "model = LinearRegression()\n",
    "model.fit(features_train_2, target_train_2)\n",
    "    \n",
    "# Create a new column of prediction\n",
    "profit_geo_2['predict_vol_of_reserves'] = model.predict(features_val_2)\n",
    "\n",
    "profit_geo_2"
   ]
  },
  {
   "cell_type": "markdown",
   "id": "739ddcf2",
   "metadata": {},
   "source": [
    "After combining predicted values with features and target for validation set, we will create a function to calculate the profit. \n",
    "\n",
    "Per instructions, the profit is total of actual production value multiple by production cost of `4500` and minus development budget of 100 million. "
   ]
  },
  {
   "cell_type": "code",
   "execution_count": 25,
   "id": "7865a77b",
   "metadata": {},
   "outputs": [],
   "source": [
    "# create function to calculate profit\n",
    "\n",
    "def profit_cal(profit_geo):\n",
    "    best_200_predict = profit_geo.sort_values(by = 'predict_vol_of_reserves', ascending=False).head(200)\n",
    "    total_product = best_200_predict['vol_of_reserves'].sum()\n",
    "    revenue = total_product * product_price\n",
    "    return revenue - development_budget\n",
    "     \n",
    "    "
   ]
  },
  {
   "cell_type": "code",
   "execution_count": 26,
   "id": "043b74f4",
   "metadata": {},
   "outputs": [
    {
     "name": "stdout",
     "output_type": "stream",
     "text": [
      "The profit for geo_data_0 is 33208260.43139851.\n",
      "The profit for geo_data_1 is 24150866.966815114.\n",
      "The profit for geo_data_2 is 27103499.635998324.\n"
     ]
    }
   ],
   "source": [
    "print(f'The profit for geo_data_0 is {profit_cal(profit_geo_0)}.')\n",
    "\n",
    "print(f'The profit for geo_data_1 is {profit_cal(profit_geo_1)}.')\n",
    "\n",
    "print(f'The profit for geo_data_2 is {profit_cal(profit_geo_2)}.')"
   ]
  },
  {
   "cell_type": "code",
   "execution_count": 27,
   "id": "ded7badb",
   "metadata": {},
   "outputs": [
    {
     "data": {
      "image/png": "[encoded data removed]",
      "text/plain": [
       "<Figure size 640x480 with 1 Axes>"
      ]
     },
     "metadata": {},
     "output_type": "display_data"
    }
   ],
   "source": [
    "# Create a table to store profit data \n",
    "\n",
    "profit_regions = pd.DataFrame(columns=['Region 0', 'Region 1','Region 2'])\n",
    "\n",
    "# Getting profit for different regions and assigning to a table\n",
    "profits = [round(profit_cal(profit_geo_0),2),round(profit_cal(profit_geo_1),2),round(profit_cal(profit_geo_2),2)]\n",
    "\n",
    "profit_regions.loc['profits'] = profits\n",
    "\n",
    "# Creating a chart\n",
    "profit_regions.plot(kind='bar')\n",
    "                    \n",
    "# Create a title and labels for the chart\n",
    "plt.title('Profits for different regions'),\n",
    "plt.xlabel('Region'),\n",
    "plt.ylabel('Profits (in millions of dollars)')\n",
    "\n",
    "# Remove the \"profits\" label from the x-axis\n",
    "plt.xticks([])\n",
    "\n",
    "\n",
    "plt.show()\n",
    "\n",
    "#plt.xticks(ticks=[0,1], labels=[‘want to stay’, ‘want to leave’])"
   ]
  },
  {
   "cell_type": "markdown",
   "id": "cf7c53d7",
   "metadata": {},
   "source": [
    "### Oberservation\n",
    "\n",
    "After calculating the actual profit for each well using the top 200 predicted production volume, we can see that `region 0` has the highest profit while `region 1` has the lowest profit. \n",
    "\n",
    "However, we should also consider the risk of loss of each region and 95% confidence level before concluding which region is best for well development"
   ]
  },
  {
   "cell_type": "markdown",
   "id": "0cc8767b",
   "metadata": {},
   "source": [
    "# Confidence interval for different regions"
   ]
  },
  {
   "cell_type": "markdown",
   "id": "e0e1f977",
   "metadata": {},
   "source": [
    "### Region 0"
   ]
  },
  {
   "cell_type": "code",
   "execution_count": 28,
   "id": "a9273296",
   "metadata": {},
   "outputs": [
    {
     "name": "stdout",
     "output_type": "stream",
     "text": [
      "The 95% confidence level for region 0 is between -1112155.46 and 9097669.42.\n",
      "The average profit for region 0 is 3961649.8480237117\n",
      "Risk of loss: 6.90%\n"
     ]
    }
   ],
   "source": [
    "# Create random state\n",
    "state = np.random.RandomState(12345)\n",
    "\n",
    "# Create empty list to store subsample\n",
    "values_0 = []\n",
    "\n",
    "# 1000 samples \n",
    "\n",
    "for i in range(1000):\n",
    "    subsample = profit_geo_0.sample(n=500, replace=True, random_state=state )\n",
    "    values_0.append(profit_cal(subsample))\n",
    "\n",
    "# Converting to series as quantile() only works on series\n",
    "values_0 = pd.Series(values_0)\n",
    "\n",
    "# Get the 95% confidence level\n",
    "lower_0 = values_0.quantile(0.025)\n",
    "upper_0 = values_0.quantile(0.975)\n",
    "\n",
    "print(f'The 95% confidence level for region 0 is between {lower_0:.2f} and {upper_0:.2f}.' )\n",
    "print(f'The average profit for region 0 is {values_0.mean()}')\n",
    "print(f'Risk of loss: {(values_0 < 0).mean():.2%}')"
   ]
  },
  {
   "cell_type": "markdown",
   "id": "78318e06",
   "metadata": {},
   "source": [
    "### Region 1"
   ]
  },
  {
   "cell_type": "code",
   "execution_count": 29,
   "id": "bbd5b957",
   "metadata": {},
   "outputs": [
    {
     "name": "stdout",
     "output_type": "stream",
     "text": [
      "The 95% confidence level for region 1 is between 338205.09 and 8522894.54.\n",
      "The average profit for region 1 is 4560451.057866608\n",
      "Risk of loss: 1.50%\n"
     ]
    }
   ],
   "source": [
    "# Create random state\n",
    "state = np.random.RandomState(12345)\n",
    "\n",
    "# Create empty list to store subsample\n",
    "values_1 = []\n",
    "\n",
    "# 1000 samples \n",
    "\n",
    "for i in range(1000):\n",
    "    subsample = profit_geo_1.sample(n=500, replace=True, random_state=state )\n",
    "    values_1.append(profit_cal(subsample))\n",
    "\n",
    "# Converting to series as quantile() only works on series\n",
    "values_1 = pd.Series(values_1)\n",
    "\n",
    "# Get the 95% confidence level\n",
    "lower_1 = values_1.quantile(0.025)\n",
    "upper_1 = values_1.quantile(0.975)\n",
    "\n",
    "print(f'The 95% confidence level for region 1 is between {lower_1:.2f} and {upper_1:.2f}.' )\n",
    "print(f'The average profit for region 1 is {values_1.mean()}')\n",
    "print(f'Risk of loss: {(values_1 < 0).mean():.2%}')\n"
   ]
  },
  {
   "cell_type": "markdown",
   "id": "33f45c01",
   "metadata": {},
   "source": [
    "### Region 2"
   ]
  },
  {
   "cell_type": "code",
   "execution_count": 30,
   "id": "7ea6ea39",
   "metadata": {},
   "outputs": [
    {
     "name": "stdout",
     "output_type": "stream",
     "text": [
      "The 95% confidence level for region 2 is between -1633504.13 and 9503595.75.\n",
      "The average profit for region 2 is 4044038.665683568\n",
      "Risk of loss: 7.60%\n"
     ]
    }
   ],
   "source": [
    "# Create random state\n",
    "state = np.random.RandomState(12345)\n",
    "\n",
    "# Create empty list to store subsample\n",
    "values_2 = []\n",
    "\n",
    "# 1000 samples \n",
    "\n",
    "for i in range(1000):\n",
    "    subsample = profit_geo_2.sample(n=500, replace=True, random_state=state )\n",
    "    values_2.append(profit_cal(subsample))\n",
    "\n",
    "# Converting to series as quantile() only works on series\n",
    "values_2 = pd.Series(values_2)\n",
    "\n",
    "# Get the 95% confidence level\n",
    "lower_2 = values_2.quantile(0.025)\n",
    "upper_2 = values_2.quantile(0.975)\n",
    "\n",
    "print(f'The 95% confidence level for region 2 is between {lower_2:.2f} and {upper_2:.2f}.' )\n",
    "print(f'The average profit for region 2 is {values_2.mean()}')\n",
    "print(f'Risk of loss: {(values_2 < 0).mean():.2%}')"
   ]
  },
  {
   "cell_type": "markdown",
   "id": "4442fb91",
   "metadata": {},
   "source": []
  },
  {
   "cell_type": "markdown",
   "id": "97d3c7f2",
   "metadata": {},
   "source": [
    "# Conclusion"
   ]
  },
  {
   "cell_type": "markdown",
   "id": "d3b99b64",
   "metadata": {},
   "source": [
    "The goal of the project is to find best region to develop new well. \n",
    "\n",
    "We started with examining the size of individual region data. We also looked at the distribution of the `product` column for each region. `Region 0` and `Region 2` have normal distribution of production volume while `Region 1` has an U shape distribution. \n",
    "\n",
    "Afterwards, we create different variables to store features and target for each region. We then split the data into training and validation set. \n",
    "\n",
    "We trained our model with training data and use validation set to check the RMSE (root mean squared error). We can see that `region 1` has the lowest error meaning it is predciting validation set very well.\n",
    "\n",
    "Next phrase is to check what is the profit for individual region. We sort by the predicted value and took top 200 samples's actualy production volume to calculate the profit. `Region 0` has highest profit and `region 1` has lowest profit amongst the three. \n",
    "\n",
    "We need to take the risk of loss into account as well. Not every well is making profit. Therefore, we look at 95% confidence level and noticed that `region 0` and `region 2` lowest range can be - $100,000 . While `region 1`'s lowest range still falls into positive.\n",
    "\n",
    "After averaging out the positive profits for each region, `Region 1` or data from `geo_data_1` has the highest average profit and lowest risk of loss. Therefore, the best region for new well development is region 1. "
   ]
  }
 ],
 "metadata": {
  "kernelspec": {
   "display_name": "Python 3 (ipykernel)",
   "language": "python",
   "name": "python3"
  },
  "language_info": {
   "codemirror_mode": {
    "name": "ipython",
    "version": 3
   },
   "file_extension": ".py",
   "mimetype": "text/x-python",
   "name": "python",
   "nbconvert_exporter": "python",
   "pygments_lexer": "ipython3",
   "version": "3.11.5"
  },
  "toc": {
   "base_numbering": 1,
   "nav_menu": {},
   "number_sections": true,
   "sideBar": true,
   "skip_h1_title": true,
   "title_cell": "Table of Contents",
   "title_sidebar": "Contents",
   "toc_cell": false,
   "toc_position": {},
   "toc_section_display": true,
   "toc_window_display": false
  }
 },
 "nbformat": 4,
 "nbformat_minor": 5
}
